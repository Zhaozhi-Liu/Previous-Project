{
 "cells": [
  {
   "cell_type": "code",
   "execution_count": 1,
   "id": "ce4e8675",
   "metadata": {},
   "outputs": [],
   "source": [
    "import pandas as pd\n",
    "import yfinance as yf\n",
    "import numpy as np\n",
    "import matplotlib as mpl\n",
    "import matplotlib.pyplot as plt\n",
    "from scipy.stats import norm\n",
    "from scipy.optimize import brentq\n",
    "from datetime import datetime,date,timedelta\n",
    "from functions import *\n",
    "mpl.rcParams[\"figure.dpi\"] = 480\n",
    "mpl.rcParams[\"figure.figsize\"] = (10,6)\n",
    "plt.style.use(\"ggplot\")\n",
    "spx = yf.Ticker(\"^SPX\")\n",
    "time_chain = list(map(lambda x:datetime.strptime(x, \"%Y-%m-%d\"),spx.options))"
   ]
  },
  {
   "cell_type": "markdown",
   "id": "77181e6c",
   "metadata": {},
   "source": [
    "# Getting the risk free rate $r$ in one month"
   ]
  },
  {
   "cell_type": "code",
   "execution_count": 2,
   "id": "4955b633",
   "metadata": {},
   "outputs": [
    {
     "data": {
      "text/plain": [
       "0.04938000202178955"
      ]
     },
     "execution_count": 2,
     "metadata": {},
     "output_type": "execute_result"
    }
   ],
   "source": [
    "one_month_treasury = yf.Ticker(\"^IRX\")  \n",
    "history = one_month_treasury.history(period=\"10d\")  \n",
    "r = history[\"Close\"].iloc[-1]*0.01\n",
    "r"
   ]
  },
  {
   "cell_type": "markdown",
   "id": "141b1a31",
   "metadata": {},
   "source": [
    "# Getting the expiration"
   ]
  },
  {
   "cell_type": "code",
   "execution_count": 3,
   "id": "38bb78b0",
   "metadata": {},
   "outputs": [
    {
     "data": {
      "text/plain": [
       "0.09863013698630137"
      ]
     },
     "execution_count": 3,
     "metadata": {},
     "output_type": "execute_result"
    }
   ],
   "source": [
    "now = datetime.now()\n",
    "formatted_date_str = now.strftime(\"%Y-%m-%d\")\n",
    "today = datetime.strptime(formatted_date_str, \"%Y-%m-%d\")\n",
    "time_delta = now + timedelta(days=30)\n",
    "ind = bisearch_right(time_chain, time_delta, lo=0, hi=None) # binary-searching the maturity\n",
    "time_delta = time_chain[ind].strftime(\"%Y-%m-%d\")\n",
    "maturity = datetime.strptime(time_delta, \"%Y-%m-%d\")\n",
    "T = abs((maturity - today).days)\n",
    "T /= 365\n",
    "T"
   ]
  },
  {
   "cell_type": "markdown",
   "id": "8db1628d",
   "metadata": {},
   "source": [
    "# Getting the option data"
   ]
  },
  {
   "cell_type": "code",
   "execution_count": 4,
   "id": "eff05b7c",
   "metadata": {},
   "outputs": [],
   "source": [
    "spx_options = spx.option_chain(time_delta)"
   ]
  },
  {
   "cell_type": "code",
   "execution_count": 5,
   "id": "7cac8786",
   "metadata": {},
   "outputs": [],
   "source": [
    "calls = spx_options.calls[[\"contractSymbol\",\"strike\",\"lastPrice\",\"bid\",\"ask\",\"volume\"]]\n",
    "puts = spx_options.puts[[\"contractSymbol\",\"strike\",\"lastPrice\",\"bid\",\"ask\",\"volume\"]]"
   ]
  },
  {
   "cell_type": "markdown",
   "id": "768097de",
   "metadata": {},
   "source": [
    "# Step 1: Selecting options and calculating the forword price"
   ]
  },
  {
   "cell_type": "markdown",
   "id": "d8d8445e",
   "metadata": {},
   "source": [
    "## 1.1 Finding strike price $K_0$"
   ]
  },
  {
   "cell_type": "code",
   "execution_count": 6,
   "id": "f216ea64",
   "metadata": {},
   "outputs": [
    {
     "data": {
      "text/plain": [
       "(4160.0, 66.2, 68.8)"
      ]
     },
     "execution_count": 6,
     "metadata": {},
     "output_type": "execute_result"
    }
   ],
   "source": [
    "call_df = spx_options.calls.loc[:,[\"strike\",\"lastPrice\"]]\n",
    "put_df = spx_options.puts.loc[:,[\"strike\",\"lastPrice\"]]\n",
    "merged = pd.merge(call_df,put_df,how = \"inner\",on=\"strike\",suffixes = [\"_call\",\"_put\"])\n",
    "merged[\"diff\"] = abs(merged[\"lastPrice_call\"] - merged[\"lastPrice_put\"]) \n",
    "merged = merged.iloc[::-1].reset_index()\n",
    "k0,call_price,put_price = merged.iloc[merged[\"diff\"].idxmin(),:][[\"strike\",\"lastPrice_call\",\"lastPrice_put\"]].values\n",
    "k0,call_price,put_price"
   ]
  },
  {
   "cell_type": "markdown",
   "id": "cbdd026f",
   "metadata": {},
   "source": [
    "## 1.2 Calculating the forward price"
   ]
  },
  {
   "cell_type": "code",
   "execution_count": 7,
   "id": "15df3add",
   "metadata": {},
   "outputs": [
    {
     "data": {
      "text/plain": [
       "4157.387306186849"
      ]
     },
     "execution_count": 7,
     "metadata": {},
     "output_type": "execute_result"
    }
   ],
   "source": [
    "F = k0 + np.exp(r*T)*(call_price-put_price)\n",
    "F"
   ]
  },
  {
   "cell_type": "markdown",
   "id": "9dc8c626",
   "metadata": {},
   "source": [
    "## 1.3 Selecting OTM puts and calls"
   ]
  },
  {
   "cell_type": "code",
   "execution_count": 8,
   "id": "78563dd3",
   "metadata": {},
   "outputs": [],
   "source": [
    "cond1 = calls[\"strike\"] > k0\n",
    "cond2 = calls[\"ask\"] > 0\n",
    "cond3 = calls[\"bid\"] > 0\n",
    "cond4 = calls[\"ask\"] / calls[\"bid\"] < 2 \n",
    "cond5 = calls[\"volume\"] > 0\n",
    "calls_OTM = calls[cond1 & cond2 & cond3 & cond4 & cond5]"
   ]
  },
  {
   "cell_type": "code",
   "execution_count": 9,
   "id": "500e4c52",
   "metadata": {
    "scrolled": false
   },
   "outputs": [],
   "source": [
    "cond1 = puts[\"strike\"] <= k0\n",
    "cond2 = puts[\"ask\"] > 0\n",
    "cond3 = puts[\"bid\"] > 0\n",
    "cond4 = puts[\"ask\"] / puts[\"bid\"] < 2 \n",
    "cond5 = puts[\"volume\"] > 0\n",
    "puts_OTM = puts[cond1 & cond2 & cond3 & cond4 & cond5]"
   ]
  },
  {
   "cell_type": "markdown",
   "id": "b8b82282",
   "metadata": {},
   "source": [
    "# Step 2: Calculating volatility"
   ]
  },
  {
   "cell_type": "markdown",
   "id": "d8d8d427",
   "metadata": {},
   "source": [
    "## Defining some functions"
   ]
  },
  {
   "cell_type": "code",
   "execution_count": 10,
   "id": "007ce961",
   "metadata": {},
   "outputs": [],
   "source": [
    "def d2(k,sigma):\n",
    "    return -k/(sigma*np.sqrt(T)) - (sigma*np.sqrt(T))/2\n",
    "\n",
    "def P_BS(k,sigma):\n",
    "    d2_ = d2(k,sigma)\n",
    "    d1 = d2_ + (sigma*np.sqrt(T))\n",
    "    return F * np.exp(k) * norm.cdf(-d2_) - F * norm.cdf(-d1)\n",
    "\n",
    "def P_implied_vol(k,price):\n",
    "    obj_f = lambda sigma: P_BS(k,sigma) - price * np.exp(r*T)\n",
    "    root = brentq(obj_f,0.01,1)\n",
    "    return root\n",
    "\n",
    "def C_BS(k,sigma):\n",
    "    d2_ = d2(k,sigma)\n",
    "    d1 = d2_ + (sigma*np.sqrt(T))\n",
    "    return -F * np.exp(k) * norm.cdf(d2_) + F * norm.cdf(d1)\n",
    "\n",
    "def C_implied_vol(k,price):\n",
    "    obj_f = lambda sigma: C_BS(k,sigma) - price * np.exp(r*T)\n",
    "    root = brentq(obj_f,0.01,1)\n",
    "    return root"
   ]
  },
  {
   "cell_type": "markdown",
   "id": "251340bd",
   "metadata": {},
   "source": [
    "## 2.1 Converting the data"
   ]
  },
  {
   "cell_type": "code",
   "execution_count": 11,
   "id": "2e8d3de9",
   "metadata": {},
   "outputs": [],
   "source": [
    "copy = calls_OTM.copy()\n",
    "copy[\"imp_vol\"] = copy.apply(lambda x:C_implied_vol(np.log(x[\"strike\"]/F),(x[\"bid\"]+x[\"ask\"])/2),axis = 1)**2\n",
    "copy[\"d2\"] = copy.apply(lambda x: d2(np.log(x[\"strike\"]/F),x[\"imp_vol\"]**0.5),axis = 1)\n",
    "calls_OTM = copy"
   ]
  },
  {
   "cell_type": "code",
   "execution_count": 12,
   "id": "7a664c0d",
   "metadata": {},
   "outputs": [],
   "source": [
    "copy = puts_OTM.copy()\n",
    "copy[\"imp_vol\"] = copy.apply(lambda x:P_implied_vol(np.log(x[\"strike\"]/F),(x[\"bid\"]+x[\"ask\"])/2),axis = 1)**2\n",
    "copy[\"d2\"] = copy.apply(lambda x: d2(np.log(x[\"strike\"]/F),x[\"imp_vol\"]**0.5),axis = 1)\n",
    "puts_OTM = copy"
   ]
  },
  {
   "cell_type": "code",
   "execution_count": 13,
   "id": "1021b1e3",
   "metadata": {},
   "outputs": [],
   "source": [
    "i,j = longest_dinterval(calls_OTM)\n",
    "calls_OTM = calls_OTM.iloc[i:j+1,:]"
   ]
  },
  {
   "cell_type": "code",
   "execution_count": 14,
   "id": "8edc2c7f",
   "metadata": {},
   "outputs": [],
   "source": [
    "i,j = longest_iinterval(puts_OTM)\n",
    "puts_OTM = puts_OTM.iloc[i:j+1,:]"
   ]
  },
  {
   "cell_type": "code",
   "execution_count": 15,
   "id": "8b7b5332",
   "metadata": {},
   "outputs": [
    {
     "data": {
      "text/html": [
       "<div>\n",
       "<style scoped>\n",
       "    .dataframe tbody tr th:only-of-type {\n",
       "        vertical-align: middle;\n",
       "    }\n",
       "\n",
       "    .dataframe tbody tr th {\n",
       "        vertical-align: top;\n",
       "    }\n",
       "\n",
       "    .dataframe thead th {\n",
       "        text-align: right;\n",
       "    }\n",
       "</style>\n",
       "<table border=\"1\" class=\"dataframe\">\n",
       "  <thead>\n",
       "    <tr style=\"text-align: right;\">\n",
       "      <th></th>\n",
       "      <th>contractSymbol</th>\n",
       "      <th>strike</th>\n",
       "      <th>lastPrice</th>\n",
       "      <th>bid</th>\n",
       "      <th>ask</th>\n",
       "      <th>volume</th>\n",
       "      <th>imp_vol</th>\n",
       "      <th>d2</th>\n",
       "    </tr>\n",
       "  </thead>\n",
       "  <tbody>\n",
       "    <tr>\n",
       "      <th>142</th>\n",
       "      <td>SPXW230526C04600000</td>\n",
       "      <td>4600.0</td>\n",
       "      <td>0.42</td>\n",
       "      <td>0.20</td>\n",
       "      <td>0.35</td>\n",
       "      <td>10.0</td>\n",
       "      <td>0.015702</td>\n",
       "      <td>-2.590462</td>\n",
       "    </tr>\n",
       "    <tr>\n",
       "      <th>141</th>\n",
       "      <td>SPXW230526C04500000</td>\n",
       "      <td>4500.0</td>\n",
       "      <td>1.00</td>\n",
       "      <td>0.65</td>\n",
       "      <td>0.80</td>\n",
       "      <td>21.0</td>\n",
       "      <td>0.012982</td>\n",
       "      <td>-2.230995</td>\n",
       "    </tr>\n",
       "    <tr>\n",
       "      <th>140</th>\n",
       "      <td>SPXW230526C04450000</td>\n",
       "      <td>4450.0</td>\n",
       "      <td>1.42</td>\n",
       "      <td>1.35</td>\n",
       "      <td>1.50</td>\n",
       "      <td>27.0</td>\n",
       "      <td>0.012272</td>\n",
       "      <td>-1.972417</td>\n",
       "    </tr>\n",
       "    <tr>\n",
       "      <th>139</th>\n",
       "      <td>SPXW230526C04425000</td>\n",
       "      <td>4425.0</td>\n",
       "      <td>2.92</td>\n",
       "      <td>2.00</td>\n",
       "      <td>2.20</td>\n",
       "      <td>2.0</td>\n",
       "      <td>0.012154</td>\n",
       "      <td>-1.819090</td>\n",
       "    </tr>\n",
       "    <tr>\n",
       "      <th>138</th>\n",
       "      <td>SPXW230526C04400000</td>\n",
       "      <td>4400.0</td>\n",
       "      <td>3.02</td>\n",
       "      <td>2.95</td>\n",
       "      <td>3.10</td>\n",
       "      <td>27.0</td>\n",
       "      <td>0.011990</td>\n",
       "      <td>-1.666527</td>\n",
       "    </tr>\n",
       "    <tr>\n",
       "      <th>...</th>\n",
       "      <td>...</td>\n",
       "      <td>...</td>\n",
       "      <td>...</td>\n",
       "      <td>...</td>\n",
       "      <td>...</td>\n",
       "      <td>...</td>\n",
       "      <td>...</td>\n",
       "      <td>...</td>\n",
       "    </tr>\n",
       "    <tr>\n",
       "      <th>10</th>\n",
       "      <td>SPXW230526P02900000</td>\n",
       "      <td>2900.0</td>\n",
       "      <td>0.75</td>\n",
       "      <td>0.75</td>\n",
       "      <td>0.90</td>\n",
       "      <td>76.0</td>\n",
       "      <td>0.201728</td>\n",
       "      <td>2.482921</td>\n",
       "    </tr>\n",
       "    <tr>\n",
       "      <th>9</th>\n",
       "      <td>SPXW230526P02800000</td>\n",
       "      <td>2800.0</td>\n",
       "      <td>0.67</td>\n",
       "      <td>0.60</td>\n",
       "      <td>0.70</td>\n",
       "      <td>2.0</td>\n",
       "      <td>0.227049</td>\n",
       "      <td>2.566531</td>\n",
       "    </tr>\n",
       "    <tr>\n",
       "      <th>8</th>\n",
       "      <td>SPXW230526P02700000</td>\n",
       "      <td>2700.0</td>\n",
       "      <td>0.50</td>\n",
       "      <td>0.45</td>\n",
       "      <td>0.60</td>\n",
       "      <td>5.0</td>\n",
       "      <td>0.255430</td>\n",
       "      <td>2.640054</td>\n",
       "    </tr>\n",
       "    <tr>\n",
       "      <th>7</th>\n",
       "      <td>SPXW230526P02600000</td>\n",
       "      <td>2600.0</td>\n",
       "      <td>0.35</td>\n",
       "      <td>0.35</td>\n",
       "      <td>0.50</td>\n",
       "      <td>14.0</td>\n",
       "      <td>0.286069</td>\n",
       "      <td>2.710358</td>\n",
       "    </tr>\n",
       "    <tr>\n",
       "      <th>6</th>\n",
       "      <td>SPXW230526P02400000</td>\n",
       "      <td>2400.0</td>\n",
       "      <td>0.24</td>\n",
       "      <td>0.20</td>\n",
       "      <td>0.30</td>\n",
       "      <td>2.0</td>\n",
       "      <td>0.347933</td>\n",
       "      <td>2.873232</td>\n",
       "    </tr>\n",
       "  </tbody>\n",
       "</table>\n",
       "<p>167 rows × 8 columns</p>\n",
       "</div>"
      ],
      "text/plain": [
       "          contractSymbol  strike  lastPrice   bid   ask  volume   imp_vol  \\\n",
       "142  SPXW230526C04600000  4600.0       0.42  0.20  0.35    10.0  0.015702   \n",
       "141  SPXW230526C04500000  4500.0       1.00  0.65  0.80    21.0  0.012982   \n",
       "140  SPXW230526C04450000  4450.0       1.42  1.35  1.50    27.0  0.012272   \n",
       "139  SPXW230526C04425000  4425.0       2.92  2.00  2.20     2.0  0.012154   \n",
       "138  SPXW230526C04400000  4400.0       3.02  2.95  3.10    27.0  0.011990   \n",
       "..                   ...     ...        ...   ...   ...     ...       ...   \n",
       "10   SPXW230526P02900000  2900.0       0.75  0.75  0.90    76.0  0.201728   \n",
       "9    SPXW230526P02800000  2800.0       0.67  0.60  0.70     2.0  0.227049   \n",
       "8    SPXW230526P02700000  2700.0       0.50  0.45  0.60     5.0  0.255430   \n",
       "7    SPXW230526P02600000  2600.0       0.35  0.35  0.50    14.0  0.286069   \n",
       "6    SPXW230526P02400000  2400.0       0.24  0.20  0.30     2.0  0.347933   \n",
       "\n",
       "           d2  \n",
       "142 -2.590462  \n",
       "141 -2.230995  \n",
       "140 -1.972417  \n",
       "139 -1.819090  \n",
       "138 -1.666527  \n",
       "..        ...  \n",
       "10   2.482921  \n",
       "9    2.566531  \n",
       "8    2.640054  \n",
       "7    2.710358  \n",
       "6    2.873232  \n",
       "\n",
       "[167 rows x 8 columns]"
      ]
     },
     "execution_count": 15,
     "metadata": {},
     "output_type": "execute_result"
    }
   ],
   "source": [
    "df_combine = pd.concat([puts_OTM,calls_OTM],axis = 0)\n",
    "df_combine = df_combine.sort_values(by = \"d2\")\n",
    "df_combine"
   ]
  },
  {
   "cell_type": "raw",
   "id": "6e996b85",
   "metadata": {},
   "source": [
    "data = {\n",
    "    \"Strike\": [7000, 8000, 8250, 8500, 8750, 9000, 9250, 9500, 9750, 10000, 10250, 10500, 10750, 11000, 11250, 11500, 11750, 12000, 12250],\n",
    "    \"Type\": [\"P\", \"P\", \"P\", \"P\", \"P\", \"P\", \"P\", \"P\", \"P\", \"P\", \"C\", \"C\", \"C\", \"C\", \"C\", \"C\", \"C\", \"C\", \"C\"],\n",
    "    \"Price\": [3.5, 16.5, 22.5, 32.5, 47.5, 67.5, 100.0, 147.5, 210.0, 297.5, 272.5, 170.0, 102.5, 57.5, 32.5, 18.0, 9.5, 5.5, 3.5],\n",
    "    \"d2\": [2.322589, 1.737578, 1.597871, 1.428667, 1.243389, 1.054255, 0.833485, 0.595460, 0.347682, 0.077152, -0.211813, -0.516513, -0.820640, -1.128248, -1.410956, -1.678436, -1.941339, -2.158142, -2.333800],\n",
    "    \"imp_vol\": [0.1953966, 0.1401579, 0.1247173, 0.1129279, 0.1025435, 0.0913947, 0.0835569, 0.0768361, 0.0690620, 0.0627555, 0.0586251, 0.0540715, 0.0523597, 0.0506391, 0.0510783, 0.0519399, 0.0524815, 0.0549685, 0.0588631]\n",
    "}\n",
    "df_combine = pd.DataFrame(data)\n",
    "df_combine = df_combine.sort_values(by = \"d2\")"
   ]
  },
  {
   "cell_type": "markdown",
   "id": "198b9657",
   "metadata": {},
   "source": [
    "## 2.2 Constructing a function approximating"
   ]
  },
  {
   "cell_type": "code",
   "execution_count": 16,
   "id": "2a0ac4f7",
   "metadata": {},
   "outputs": [],
   "source": [
    "x = df_combine[\"d2\"]\n",
    "y = df_combine[\"imp_vol\"]\n",
    "points = np.column_stack((x, y))\n",
    "diff = np.diff(points,axis = 0,prepend = np.nan)\n",
    "diff_x = diff[:,0]\n",
    "diff_y = diff[:,1]"
   ]
  },
  {
   "cell_type": "markdown",
   "id": "46f48ddf",
   "metadata": {},
   "source": [
    "### Slope (coefficient b)"
   ]
  },
  {
   "cell_type": "code",
   "execution_count": 17,
   "id": "a2f890e5",
   "metadata": {},
   "outputs": [],
   "source": [
    "l_plus = np.sqrt((diff_x[2:]**2 + diff_y[2:]**2))\n",
    "l = np.sqrt((diff_x[1:-1]**2 + diff_y[1:-1]**2))\n",
    "numerator = diff_x[2:]/l_plus - diff_x[1:-1]/l\n",
    "denominator = diff_y[2:]/l_plus - diff_y[1:-1]/l\n",
    "b = -numerator/denominator\n",
    "b = np.concatenate(([0],b,[0]))\n",
    "df_combine[\"b\"] = b"
   ]
  },
  {
   "cell_type": "markdown",
   "id": "b7eb3522",
   "metadata": {},
   "source": [
    "### coefficient c"
   ]
  },
  {
   "cell_type": "code",
   "execution_count": 18,
   "id": "a76632f3",
   "metadata": {},
   "outputs": [],
   "source": [
    "c = (3*diff_y[1:] - diff_x[1:]*b[1:] - 2*diff_x[1:]*b[:-1])/diff_x[1:]**2\n",
    "c = np.concatenate((c,[0]))\n",
    "df_combine[\"c\"] = c"
   ]
  },
  {
   "cell_type": "markdown",
   "id": "8e409739",
   "metadata": {},
   "source": [
    "### coefficient d"
   ]
  },
  {
   "cell_type": "code",
   "execution_count": 19,
   "id": "11200e51",
   "metadata": {},
   "outputs": [],
   "source": [
    "d = (diff_y[1:] - b[:-1]*diff_x[1:] - c[:-1]*diff_x[1:]**2)/diff_x[1:]**3\n",
    "d = np.concatenate((d,[0]))\n",
    "df_combine[\"d\"] = d"
   ]
  },
  {
   "cell_type": "code",
   "execution_count": 20,
   "id": "26db7ec9",
   "metadata": {},
   "outputs": [
    {
     "data": {
      "text/html": [
       "<div>\n",
       "<style scoped>\n",
       "    .dataframe tbody tr th:only-of-type {\n",
       "        vertical-align: middle;\n",
       "    }\n",
       "\n",
       "    .dataframe tbody tr th {\n",
       "        vertical-align: top;\n",
       "    }\n",
       "\n",
       "    .dataframe thead th {\n",
       "        text-align: right;\n",
       "    }\n",
       "</style>\n",
       "<table border=\"1\" class=\"dataframe\">\n",
       "  <thead>\n",
       "    <tr style=\"text-align: right;\">\n",
       "      <th></th>\n",
       "      <th>contractSymbol</th>\n",
       "      <th>strike</th>\n",
       "      <th>lastPrice</th>\n",
       "      <th>bid</th>\n",
       "      <th>ask</th>\n",
       "      <th>volume</th>\n",
       "      <th>imp_vol</th>\n",
       "      <th>d2</th>\n",
       "      <th>b</th>\n",
       "      <th>c</th>\n",
       "      <th>d</th>\n",
       "    </tr>\n",
       "  </thead>\n",
       "  <tbody>\n",
       "    <tr>\n",
       "      <th>142</th>\n",
       "      <td>SPXW230526C04600000</td>\n",
       "      <td>4600.0</td>\n",
       "      <td>0.42</td>\n",
       "      <td>0.20</td>\n",
       "      <td>0.35</td>\n",
       "      <td>10.0</td>\n",
       "      <td>0.015702</td>\n",
       "      <td>-2.590462</td>\n",
       "      <td>0.000000</td>\n",
       "      <td>-0.048815</td>\n",
       "      <td>0.077232</td>\n",
       "    </tr>\n",
       "    <tr>\n",
       "      <th>141</th>\n",
       "      <td>SPXW230526C04500000</td>\n",
       "      <td>4500.0</td>\n",
       "      <td>1.00</td>\n",
       "      <td>0.65</td>\n",
       "      <td>0.80</td>\n",
       "      <td>21.0</td>\n",
       "      <td>0.012982</td>\n",
       "      <td>-2.230995</td>\n",
       "      <td>-0.005156</td>\n",
       "      <td>0.014839</td>\n",
       "      <td>-0.021315</td>\n",
       "    </tr>\n",
       "    <tr>\n",
       "      <th>140</th>\n",
       "      <td>SPXW230526C04450000</td>\n",
       "      <td>4450.0</td>\n",
       "      <td>1.42</td>\n",
       "      <td>1.35</td>\n",
       "      <td>1.50</td>\n",
       "      <td>27.0</td>\n",
       "      <td>0.012272</td>\n",
       "      <td>-1.972417</td>\n",
       "      <td>-0.001757</td>\n",
       "      <td>0.013874</td>\n",
       "      <td>-0.048513</td>\n",
       "    </tr>\n",
       "    <tr>\n",
       "      <th>139</th>\n",
       "      <td>SPXW230526C04425000</td>\n",
       "      <td>4425.0</td>\n",
       "      <td>2.92</td>\n",
       "      <td>2.00</td>\n",
       "      <td>2.20</td>\n",
       "      <td>2.0</td>\n",
       "      <td>0.012154</td>\n",
       "      <td>-1.819090</td>\n",
       "      <td>-0.000924</td>\n",
       "      <td>-0.002940</td>\n",
       "      <td>0.012668</td>\n",
       "    </tr>\n",
       "    <tr>\n",
       "      <th>138</th>\n",
       "      <td>SPXW230526C04400000</td>\n",
       "      <td>4400.0</td>\n",
       "      <td>3.02</td>\n",
       "      <td>2.95</td>\n",
       "      <td>3.10</td>\n",
       "      <td>27.0</td>\n",
       "      <td>0.011990</td>\n",
       "      <td>-1.666527</td>\n",
       "      <td>-0.000937</td>\n",
       "      <td>-0.005015</td>\n",
       "      <td>0.115430</td>\n",
       "    </tr>\n",
       "    <tr>\n",
       "      <th>...</th>\n",
       "      <td>...</td>\n",
       "      <td>...</td>\n",
       "      <td>...</td>\n",
       "      <td>...</td>\n",
       "      <td>...</td>\n",
       "      <td>...</td>\n",
       "      <td>...</td>\n",
       "      <td>...</td>\n",
       "      <td>...</td>\n",
       "      <td>...</td>\n",
       "      <td>...</td>\n",
       "    </tr>\n",
       "    <tr>\n",
       "      <th>10</th>\n",
       "      <td>SPXW230526P02900000</td>\n",
       "      <td>2900.0</td>\n",
       "      <td>0.75</td>\n",
       "      <td>0.75</td>\n",
       "      <td>0.90</td>\n",
       "      <td>76.0</td>\n",
       "      <td>0.201728</td>\n",
       "      <td>2.482921</td>\n",
       "      <td>0.298311</td>\n",
       "      <td>-0.382634</td>\n",
       "      <td>5.224798</td>\n",
       "    </tr>\n",
       "    <tr>\n",
       "      <th>9</th>\n",
       "      <td>SPXW230526P02800000</td>\n",
       "      <td>2800.0</td>\n",
       "      <td>0.67</td>\n",
       "      <td>0.60</td>\n",
       "      <td>0.70</td>\n",
       "      <td>2.0</td>\n",
       "      <td>0.227049</td>\n",
       "      <td>2.566531</td>\n",
       "      <td>0.343901</td>\n",
       "      <td>0.810204</td>\n",
       "      <td>-3.227600</td>\n",
       "    </tr>\n",
       "    <tr>\n",
       "      <th>8</th>\n",
       "      <td>SPXW230526P02700000</td>\n",
       "      <td>2700.0</td>\n",
       "      <td>0.50</td>\n",
       "      <td>0.45</td>\n",
       "      <td>0.60</td>\n",
       "      <td>5.0</td>\n",
       "      <td>0.255430</td>\n",
       "      <td>2.640054</td>\n",
       "      <td>0.410697</td>\n",
       "      <td>1.116324</td>\n",
       "      <td>-10.798367</td>\n",
       "    </tr>\n",
       "    <tr>\n",
       "      <th>7</th>\n",
       "      <td>SPXW230526P02600000</td>\n",
       "      <td>2600.0</td>\n",
       "      <td>0.35</td>\n",
       "      <td>0.35</td>\n",
       "      <td>0.50</td>\n",
       "      <td>14.0</td>\n",
       "      <td>0.286069</td>\n",
       "      <td>2.710358</td>\n",
       "      <td>0.407544</td>\n",
       "      <td>1.991717</td>\n",
       "      <td>-13.273316</td>\n",
       "    </tr>\n",
       "    <tr>\n",
       "      <th>6</th>\n",
       "      <td>SPXW230526P02400000</td>\n",
       "      <td>2400.0</td>\n",
       "      <td>0.24</td>\n",
       "      <td>0.20</td>\n",
       "      <td>0.30</td>\n",
       "      <td>2.0</td>\n",
       "      <td>0.347933</td>\n",
       "      <td>2.873232</td>\n",
       "      <td>0.000000</td>\n",
       "      <td>0.000000</td>\n",
       "      <td>0.000000</td>\n",
       "    </tr>\n",
       "  </tbody>\n",
       "</table>\n",
       "<p>167 rows × 11 columns</p>\n",
       "</div>"
      ],
      "text/plain": [
       "          contractSymbol  strike  lastPrice   bid   ask  volume   imp_vol  \\\n",
       "142  SPXW230526C04600000  4600.0       0.42  0.20  0.35    10.0  0.015702   \n",
       "141  SPXW230526C04500000  4500.0       1.00  0.65  0.80    21.0  0.012982   \n",
       "140  SPXW230526C04450000  4450.0       1.42  1.35  1.50    27.0  0.012272   \n",
       "139  SPXW230526C04425000  4425.0       2.92  2.00  2.20     2.0  0.012154   \n",
       "138  SPXW230526C04400000  4400.0       3.02  2.95  3.10    27.0  0.011990   \n",
       "..                   ...     ...        ...   ...   ...     ...       ...   \n",
       "10   SPXW230526P02900000  2900.0       0.75  0.75  0.90    76.0  0.201728   \n",
       "9    SPXW230526P02800000  2800.0       0.67  0.60  0.70     2.0  0.227049   \n",
       "8    SPXW230526P02700000  2700.0       0.50  0.45  0.60     5.0  0.255430   \n",
       "7    SPXW230526P02600000  2600.0       0.35  0.35  0.50    14.0  0.286069   \n",
       "6    SPXW230526P02400000  2400.0       0.24  0.20  0.30     2.0  0.347933   \n",
       "\n",
       "           d2         b         c          d  \n",
       "142 -2.590462  0.000000 -0.048815   0.077232  \n",
       "141 -2.230995 -0.005156  0.014839  -0.021315  \n",
       "140 -1.972417 -0.001757  0.013874  -0.048513  \n",
       "139 -1.819090 -0.000924 -0.002940   0.012668  \n",
       "138 -1.666527 -0.000937 -0.005015   0.115430  \n",
       "..        ...       ...       ...        ...  \n",
       "10   2.482921  0.298311 -0.382634   5.224798  \n",
       "9    2.566531  0.343901  0.810204  -3.227600  \n",
       "8    2.640054  0.410697  1.116324 -10.798367  \n",
       "7    2.710358  0.407544  1.991717 -13.273316  \n",
       "6    2.873232  0.000000  0.000000   0.000000  \n",
       "\n",
       "[167 rows x 11 columns]"
      ]
     },
     "execution_count": 20,
     "metadata": {},
     "output_type": "execute_result"
    }
   ],
   "source": [
    "df_combine"
   ]
  },
  {
   "cell_type": "markdown",
   "id": "6c41101b",
   "metadata": {},
   "source": [
    "## 2.3 Function Construction"
   ]
  },
  {
   "cell_type": "code",
   "execution_count": 21,
   "id": "2afe5325",
   "metadata": {},
   "outputs": [],
   "source": [
    "# sigma^2(d_2^{-1}(k))\n",
    "def y(x): \n",
    "    if x<=df_combine[\"d2\"].iloc[0]:\n",
    "        return df_combine[\"imp_vol\"].iloc[0]\n",
    "    elif x>=df_combine[\"d2\"].iloc[-1]:\n",
    "        return df_combine[\"imp_vol\"].iloc[-1]\n",
    "    array = df_combine[\"d2\"].values\n",
    "    ind = np.searchsorted(array,x,side = \"right\")-1\n",
    "    x_j = array[ind]\n",
    "    a = df_combine[\"imp_vol\"].values[ind]\n",
    "    b = df_combine[\"b\"].values[ind]\n",
    "    c = df_combine[\"c\"].values[ind]\n",
    "    d = df_combine[\"d\"].values[ind]\n",
    "    return a+b*(x-x_j)+c*(x-x_j)**2+d*(x-x_j)**3"
   ]
  },
  {
   "cell_type": "code",
   "execution_count": 22,
   "id": "7d16346f",
   "metadata": {},
   "outputs": [
    {
     "data": {
      "text/plain": [
       "<matplotlib.collections.PathCollection at 0x1eefa568b50>"
      ]
     },
     "execution_count": 22,
     "metadata": {},
     "output_type": "execute_result"
    },
    {
     "data": {
      "image/png": "[encoded data removed]",
      "text/plain": [
       "<Figure size 4800x2880 with 1 Axes>"
      ]
     },
     "metadata": {},
     "output_type": "display_data"
    }
   ],
   "source": [
    "tmp_list = np.linspace(points[0,0]-1,points[-1,0]+1,10000)\n",
    "plt.plot(tmp_list,[y(x) for x in tmp_list],\"b-\")\n",
    "plt.scatter(points[:,0],points[:,1])"
   ]
  },
  {
   "cell_type": "markdown",
   "id": "007da4f0",
   "metadata": {},
   "source": [
    "# STEP 3 Integrating"
   ]
  },
  {
   "cell_type": "code",
   "execution_count": 23,
   "id": "cf7f781d",
   "metadata": {},
   "outputs": [
    {
     "name": "stdout",
     "output_type": "stream",
     "text": [
      "The implied volatility the list of options of maturity at 2023-05-26, is 17.4561%.\n"
     ]
    }
   ],
   "source": [
    "def integration():\n",
    "    x = df_combine[\"d2\"].values\n",
    "    phi_plus = norm.pdf(x[1:])\n",
    "    phi = norm.pdf(x[:-1])\n",
    "    A = norm.cdf(x[1:]) - norm.cdf(x[:-1])\n",
    "    B = -(phi_plus - phi) - x[:-1]*A\n",
    "    C = (\n",
    "        -(x[1:]*phi_plus-x[:-1]*phi) + 2*x[:-1]*(phi_plus-phi) + \n",
    "         (1+x[:-1]**2)*A\n",
    "    )\n",
    "    D = (\n",
    "        (1-x[1:]**2)*phi_plus - (1-x[:-1]**2)*phi + \n",
    "        3*x[:-1]*(x[1:]*phi_plus - x[:-1]*phi) - \n",
    "        3*(1+x[:-1]**2)*(phi_plus-phi) - \n",
    "        x[:-1]*(3+x[:-1]**2)*A\n",
    "    )\n",
    "    a = df_combine[\"imp_vol\"].values\n",
    "    b = df_combine[\"b\"].values\n",
    "    c = df_combine[\"c\"].values\n",
    "    d = df_combine[\"d\"].values\n",
    "    part1 = np.sum(a[:-1] * A + b[:-1] * B + c[:-1] * C + d[:-1] * D)\n",
    "    part2 = a[0] * norm.cdf(x[0]) + a[-1]*(1-norm.cdf(x[-1]))\n",
    "    return part1 + part2\n",
    "print(f\"The implied volatility the list of options of maturity at {time_delta}, is {np.round(np.sqrt(integration()),6)*100}%.\")"
   ]
  },
  {
   "cell_type": "markdown",
   "id": "a8672415",
   "metadata": {},
   "source": [
    "# IV of CBOE method"
   ]
  },
  {
   "cell_type": "markdown",
   "id": "5b58da7d",
   "metadata": {},
   "source": [
    "$$\n",
    "\\begin{aligned}\n",
    "-2 \\mathbb{E}\\left[\\log \\left(S_T / F\\right)\\right] \\approx & 2 \\sum_{K=K_{\\min }}^{K_0-1} \\frac{P(K)}{K^2} \\Delta K+\\frac{P\\left(K_0\\right)+C\\left(K_0\\right)}{K_0^2} \\Delta K_0 \\\\\n",
    "& +2 \\sum_{K=K_0+1}^{K_{\\max }} \\frac{C(K)}{K^2} \\Delta K-\\left(\\frac{F}{K_0}-1\\right)^2\n",
    "\\end{aligned}\n",
    "$$\n",
    "Denote:\n",
    "\n",
    "$\n",
    "T_1 = \\sum_{K=K_{\\min }}^{K_0-1} \\frac{P(K)}{K^2} \\Delta K\n",
    "$\n",
    "\n",
    "$\n",
    "T_2 = \\frac{P\\left(K_0\\right)+C\\left(K_0\\right)}{K_0^2} \\Delta K_0\n",
    "$\n",
    "\n",
    "$\n",
    "T_3 = \\sum_{K=K_0+1}^{K_{\\max }} \\frac{C(K)}{K^2} \\Delta K\n",
    "$\n",
    "\n",
    "$\n",
    "T_4 = \\left(\\frac{F}{K_0}-1\\right)^2\n",
    "$"
   ]
  },
  {
   "cell_type": "markdown",
   "id": "4d1030b7",
   "metadata": {},
   "source": [
    "## Calculation of the first term"
   ]
  },
  {
   "cell_type": "code",
   "execution_count": 24,
   "id": "912e2f96",
   "metadata": {},
   "outputs": [],
   "source": [
    "cond1 = puts[\"strike\"] <= k0\n",
    "cond2 = puts[\"ask\"] > 0\n",
    "cond3 = puts[\"bid\"] > 0\n",
    "cond4 = puts[\"volume\"] > 0\n",
    "puts_OTM_CBOE = puts[cond1 & cond2 & cond3 & cond4]"
   ]
  },
  {
   "cell_type": "code",
   "execution_count": 25,
   "id": "77a4aa8f",
   "metadata": {},
   "outputs": [
    {
     "data": {
      "text/plain": [
       "0.0011563902496941779"
      ]
     },
     "execution_count": 25,
     "metadata": {},
     "output_type": "execute_result"
    }
   ],
   "source": [
    "diff_k = puts_OTM_CBOE[\"strike\"].diff().values\n",
    "T_1 = np.sum((puts_OTM_CBOE[\"bid\"].values[:-1] + puts_OTM_CBOE[\"ask\"].values[:-1])/2 * np.exp(r*T)/(puts_OTM_CBOE[\"strike\"].values[:-1]**2) * diff_k[1:])\n",
    "T_1 -= (puts_OTM_CBOE[\"bid\"].values[-2] + puts_OTM_CBOE[\"ask\"].values[-2])/2 * np.exp(r*T)/(puts_OTM_CBOE[\"strike\"].values[-2]**2)\n",
    "T_1"
   ]
  },
  {
   "cell_type": "code",
   "execution_count": 26,
   "id": "59721397",
   "metadata": {},
   "outputs": [],
   "source": [
    "cond1 = calls[\"strike\"] >= k0\n",
    "cond2 = calls[\"ask\"] > 0\n",
    "cond3 = calls[\"bid\"] > 0\n",
    "cond4 = calls[\"volume\"] > 0\n",
    "calls_OTM_CBOE = calls[cond1 & cond2 & cond3 & cond4]"
   ]
  },
  {
   "cell_type": "code",
   "execution_count": 27,
   "id": "765391f2",
   "metadata": {},
   "outputs": [
    {
     "data": {
      "text/plain": [
       "0.0003118418273140246"
      ]
     },
     "execution_count": 27,
     "metadata": {},
     "output_type": "execute_result"
    }
   ],
   "source": [
    "diff_k = calls_OTM_CBOE[\"strike\"].diff().values\n",
    "T_3 = np.sum((calls_OTM_CBOE[\"bid\"].values[1:] + calls_OTM_CBOE[\"ask\"].values[1:])/2 * np.exp(r*T)/(calls_OTM_CBOE[\"strike\"].values[1:]**2) * diff_k[1:])\n",
    "T_3 -= (calls_OTM_CBOE[\"bid\"].values[1] + calls_OTM_CBOE[\"ask\"].values[1])/2 * np.exp(r*T)/(calls_OTM_CBOE[\"strike\"].values[1]**2)\n",
    "T_3"
   ]
  },
  {
   "cell_type": "code",
   "execution_count": 28,
   "id": "c195752a",
   "metadata": {},
   "outputs": [
    {
     "data": {
      "text/plain": [
       "1.567805818193878e-05"
      ]
     },
     "execution_count": 28,
     "metadata": {},
     "output_type": "execute_result"
    }
   ],
   "source": [
    "T_2 = (puts_OTM_CBOE[\"lastPrice\"].values[-1] + calls_OTM_CBOE[\"lastPrice\"].values[0])* np.exp(r*T) / (k0**2) * 2\n",
    "T_2"
   ]
  },
  {
   "cell_type": "code",
   "execution_count": 29,
   "id": "867dd4f1",
   "metadata": {},
   "outputs": [
    {
     "data": {
      "text/plain": [
       "3.9444855776614696e-07"
      ]
     },
     "execution_count": 29,
     "metadata": {},
     "output_type": "execute_result"
    }
   ],
   "source": [
    "T_4 = (F/k0-1)**2\n",
    "T_4"
   ]
  },
  {
   "cell_type": "code",
   "execution_count": 30,
   "id": "a02852aa",
   "metadata": {},
   "outputs": [
    {
     "data": {
      "text/plain": [
       "0.17299549879571458"
      ]
     },
     "execution_count": 30,
     "metadata": {},
     "output_type": "execute_result"
    }
   ],
   "source": [
    "vix = (2*T_1 + T_2 + 2*T_3 - T_4)/T\n",
    "vix**0.5"
   ]
  },
  {
   "cell_type": "markdown",
   "id": "15ebedcc",
   "metadata": {},
   "source": [
    "### Formula for calculating VIX given by CBOE"
   ]
  },
  {
   "cell_type": "code",
   "execution_count": 31,
   "id": "87624ea0",
   "metadata": {},
   "outputs": [],
   "source": [
    "def puts_(x):\n",
    "    mid = (x[\"ask\"].values + x[\"bid\"].values)/2\n",
    "    strike = x[\"strike\"].values\n",
    "    n = len(x)\n",
    "    d = np.exp(r*T)\n",
    "    ans = mid[0] * d * (strike[1]-strike[0])*0.5/strike[0]**2\n",
    "    for i in range(1,n-1):\n",
    "        ans += mid[i] * d * (strike[i+1]-strike[i-1])*0.5/strike[i]**2\n",
    "    ans += mid[n-1] * d * (strike[n-1]-strike[n-2])*0.5/strike[n-1]**2\n",
    "    return ans * 2\n"
   ]
  },
  {
   "cell_type": "code",
   "execution_count": 32,
   "id": "5be7ae3e",
   "metadata": {},
   "outputs": [],
   "source": [
    "def calls_(x):\n",
    "    mid = (x[\"ask\"].values + x[\"bid\"].values)/2\n",
    "    strike = x[\"strike\"].values\n",
    "    n = len(x)\n",
    "    d = np.exp(r*T)\n",
    "    ans = mid[0] * d * (strike[1]-strike[0])*0.5/strike[0]**2\n",
    "    for i in range(1,n-1):\n",
    "        ans += mid[i] * d * (strike[i+1]-strike[i-1])*0.5/strike[i]**2\n",
    "    ans += mid[n-1] * d * (strike[n-1]-strike[n-2])*0.5/strike[n-1]**2\n",
    "    return ans * 2"
   ]
  },
  {
   "cell_type": "code",
   "execution_count": 33,
   "id": "5d153772",
   "metadata": {},
   "outputs": [
    {
     "data": {
      "text/plain": [
       "0.1753192834777158"
      ]
     },
     "execution_count": 33,
     "metadata": {},
     "output_type": "execute_result"
    }
   ],
   "source": [
    "((calls_(calls_OTM_CBOE) + puts_(puts_OTM_CBOE) - (F/k0-1)**2)/T)**0.5"
   ]
  },
  {
   "cell_type": "code",
   "execution_count": null,
   "id": "9dc9551e",
   "metadata": {},
   "outputs": [],
   "source": []
  },
  {
   "cell_type": "code",
   "execution_count": null,
   "id": "9e8fcad8",
   "metadata": {},
   "outputs": [],
   "source": []
  },
  {
   "cell_type": "code",
   "execution_count": null,
   "id": "9dfebfe8",
   "metadata": {},
   "outputs": [],
   "source": []
  },
  {
   "cell_type": "code",
   "execution_count": null,
   "id": "f12a98db",
   "metadata": {},
   "outputs": [],
   "source": []
  },
  {
   "cell_type": "code",
   "execution_count": null,
   "id": "ee5db27c",
   "metadata": {},
   "outputs": [],
   "source": []
  },
  {
   "cell_type": "code",
   "execution_count": null,
   "id": "03e6a398",
   "metadata": {},
   "outputs": [],
   "source": []
  },
  {
   "cell_type": "code",
   "execution_count": null,
   "id": "55382d63",
   "metadata": {},
   "outputs": [],
   "source": []
  },
  {
   "cell_type": "code",
   "execution_count": null,
   "id": "2ff5fac3",
   "metadata": {},
   "outputs": [],
   "source": []
  },
  {
   "cell_type": "code",
   "execution_count": null,
   "id": "4ee76235",
   "metadata": {},
   "outputs": [],
   "source": []
  },
  {
   "cell_type": "code",
   "execution_count": null,
   "id": "059e3219",
   "metadata": {},
   "outputs": [],
   "source": []
  },
  {
   "cell_type": "code",
   "execution_count": null,
   "id": "b1150adb",
   "metadata": {},
   "outputs": [],
   "source": []
  },
  {
   "cell_type": "code",
   "execution_count": null,
   "id": "1bd7cb9d",
   "metadata": {},
   "outputs": [],
   "source": []
  },
  {
   "cell_type": "code",
   "execution_count": null,
   "id": "69c86caf",
   "metadata": {},
   "outputs": [],
   "source": []
  },
  {
   "cell_type": "code",
   "execution_count": null,
   "id": "d2e826bf",
   "metadata": {},
   "outputs": [],
   "source": []
  }
 ],
 "metadata": {
  "kernelspec": {
   "display_name": "Python 3 (ipykernel)",
   "language": "python",
   "name": "python3"
  },
  "language_info": {
   "codemirror_mode": {
    "name": "ipython",
    "version": 3
   },
   "file_extension": ".py",
   "mimetype": "text/x-python",
   "name": "python",
   "nbconvert_exporter": "python",
   "pygments_lexer": "ipython3",
   "version": "3.9.12"
  }
 },
 "nbformat": 4,
 "nbformat_minor": 5
}
