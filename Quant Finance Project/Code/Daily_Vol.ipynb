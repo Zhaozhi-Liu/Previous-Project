{
 "cells": [
  {
   "cell_type": "code",
   "execution_count": 1,
   "id": "76107eb1",
   "metadata": {
    "ExecuteTime": {
     "end_time": "2023-10-11T11:42:49.705314Z",
     "start_time": "2023-10-11T11:42:35.844162Z"
    }
   },
   "outputs": [],
   "source": [
    "import pandas as pd\n",
    "import yfinance as yf\n",
    "import numpy as np\n",
    "import matplotlib as mpl\n",
    "import matplotlib.pyplot as plt\n",
    "from scipy.stats import norm\n",
    "from scipy.optimize import brentq\n",
    "from datetime import datetime,date,timedelta\n",
    "from functions import *\n",
    "from nvix import NVIX\n",
    "from cboe import CBOE\n",
    "from scipy.interpolate import interp1d\n",
    "mpl.rcParams[\"figure.dpi\"] = 480\n",
    "mpl.rcParams[\"figure.figsize\"] = (10,6)\n",
    "plt.style.use(\"ggplot\")\n",
    "spx = yf.Ticker(\"^SPX\")\n",
    "time_chain = list(map(lambda x:datetime.strptime(x, \"%Y-%m-%d\"),spx.options))"
   ]
  },
  {
   "cell_type": "code",
   "execution_count": 2,
   "id": "c800e7f9",
   "metadata": {
    "ExecuteTime": {
     "end_time": "2023-10-11T11:43:02.651102Z",
     "start_time": "2023-10-11T11:43:01.760119Z"
    }
   },
   "outputs": [],
   "source": [
    "now = datetime.now()\n",
    "formatted_date_str = now.strftime(\"%Y-%m-%d\")\n",
    "today = datetime.strptime(formatted_date_str, \"%Y-%m-%d\")\n",
    "time_delta = now + timedelta(days=30)\n",
    "time_chain = list(map(lambda x:datetime.strptime(x, \"%Y-%m-%d\"),spx.options))\n",
    "ind = bisearch_right(time_chain, time_delta, lo=0, hi=None)\n",
    "\n",
    "a = NVIX(time_chain[ind-1]) # if ind-1 do not work, try ind-2\n",
    "vol_a = a.variance\n",
    "ta = a.days\n",
    "b = NVIX(time_chain[ind])# if ind do not work, try ind+1\n",
    "vol_b = b.variance\n",
    "tb = b.days"
   ]
  },
  {
   "cell_type": "code",
   "execution_count": 3,
   "id": "145cc10e",
   "metadata": {
    "ExecuteTime": {
     "end_time": "2023-10-11T11:43:03.349771Z",
     "start_time": "2023-10-11T11:43:03.334671Z"
    }
   },
   "outputs": [
    {
     "data": {
      "text/plain": [
       "0.16351644529434609"
      ]
     },
     "execution_count": 3,
     "metadata": {},
     "output_type": "execute_result"
    }
   ],
   "source": [
    "b.variance**0.5"
   ]
  },
  {
   "cell_type": "markdown",
   "id": "6fbe79ab",
   "metadata": {},
   "source": [
    "# New method"
   ]
  },
  {
   "cell_type": "markdown",
   "id": "211bffe7",
   "metadata": {},
   "source": [
    "$$\n",
    "\\sigma=100 \\times \\sqrt{\\frac{1}{T}\\left[\\frac{T_2-T}{T_2-T_1} \\sigma_1^2 T_1+\\frac{T-T_1}{T_2-T_1} \\sigma_2^2 T_2\\right]}\n",
    "$$"
   ]
  },
  {
   "cell_type": "code",
   "execution_count": 4,
   "id": "c4a474fe",
   "metadata": {},
   "outputs": [
    {
     "data": {
      "text/plain": [
       "0.1858108819867621"
      ]
     },
     "execution_count": 4,
     "metadata": {},
     "output_type": "execute_result"
    }
   ],
   "source": [
    "total = tb-ta\n",
    "(1/30*((30-ta)/total * vol_a * ta + (tb-30)/total * vol_b * tb))**0.5"
   ]
  },
  {
   "cell_type": "markdown",
   "id": "4e1b395f",
   "metadata": {},
   "source": [
    "$$\\sigma^2(x, T)=\\sigma^2\\left(x, T_1\\right) \\frac{T_2-T}{T_2-T_1}+\\sigma^2\\left(x, T_2\\right) \\frac{T-T_1}{T_2-T_1}$$"
   ]
  },
  {
   "cell_type": "code",
   "execution_count": 5,
   "id": "262a4787",
   "metadata": {},
   "outputs": [
    {
     "data": {
      "text/plain": [
       "0.17167673703045164"
      ]
     },
     "execution_count": 5,
     "metadata": {},
     "output_type": "execute_result"
    }
   ],
   "source": [
    "((30-ta)/total * vol_a + (tb-30)/total * vol_b)**0.5"
   ]
  },
  {
   "cell_type": "markdown",
   "id": "59774524",
   "metadata": {},
   "source": [
    "# CBOE"
   ]
  },
  {
   "cell_type": "code",
   "execution_count": 6,
   "id": "1dcbf901",
   "metadata": {},
   "outputs": [],
   "source": [
    "a = CBOE(time_chain[ind-1]) # if ind-1 do not work, try ind-2\n",
    "vol_a = a.variance\n",
    "ta = a.days\n",
    "b = CBOE(time_chain[ind])# if ind do not work, try ind+1\n",
    "vol_b = b.variance\n",
    "tb = b.days"
   ]
  },
  {
   "cell_type": "code",
   "execution_count": 7,
   "id": "81a269e4",
   "metadata": {},
   "outputs": [
    {
     "data": {
      "text/plain": [
       "0.18509952191719428"
      ]
     },
     "execution_count": 7,
     "metadata": {},
     "output_type": "execute_result"
    }
   ],
   "source": [
    "total = tb-ta\n",
    "(1/30*((30-ta)/total * vol_a * ta + (tb-30)/total * vol_b * tb))**0.5"
   ]
  },
  {
   "cell_type": "code",
   "execution_count": 8,
   "id": "90e007bc",
   "metadata": {},
   "outputs": [
    {
     "data": {
      "text/plain": [
       "0.1712799625173779"
      ]
     },
     "execution_count": 8,
     "metadata": {},
     "output_type": "execute_result"
    }
   ],
   "source": [
    "((30-ta)/total * vol_a + (tb-30)/total * vol_b)**0.5"
   ]
  },
  {
   "cell_type": "code",
   "execution_count": null,
   "id": "bd59c81e",
   "metadata": {},
   "outputs": [],
   "source": []
  },
  {
   "cell_type": "code",
   "execution_count": null,
   "id": "f808ed8c",
   "metadata": {},
   "outputs": [],
   "source": []
  },
  {
   "cell_type": "code",
   "execution_count": null,
   "id": "141a5e9b",
   "metadata": {},
   "outputs": [],
   "source": []
  },
  {
   "cell_type": "code",
   "execution_count": null,
   "id": "6a787a18",
   "metadata": {},
   "outputs": [],
   "source": []
  },
  {
   "cell_type": "code",
   "execution_count": null,
   "id": "c00c4101",
   "metadata": {},
   "outputs": [],
   "source": []
  },
  {
   "cell_type": "code",
   "execution_count": null,
   "id": "fc30927e",
   "metadata": {},
   "outputs": [],
   "source": []
  }
 ],
 "metadata": {
  "kernelspec": {
   "display_name": "Python 3 (ipykernel)",
   "language": "python",
   "name": "python3"
  },
  "language_info": {
   "codemirror_mode": {
    "name": "ipython",
    "version": 3
   },
   "file_extension": ".py",
   "mimetype": "text/x-python",
   "name": "python",
   "nbconvert_exporter": "python",
   "pygments_lexer": "ipython3",
   "version": "3.9.12"
  },
  "varInspector": {
   "cols": {
    "lenName": 16,
    "lenType": 16,
    "lenVar": 40
   },
   "kernels_config": {
    "python": {
     "delete_cmd_postfix": "",
     "delete_cmd_prefix": "del ",
     "library": "var_list.py",
     "varRefreshCmd": "print(var_dic_list())"
    },
    "r": {
     "delete_cmd_postfix": ") ",
     "delete_cmd_prefix": "rm(",
     "library": "var_list.r",
     "varRefreshCmd": "cat(var_dic_list()) "
    }
   },
   "types_to_exclude": [
    "module",
    "function",
    "builtin_function_or_method",
    "instance",
    "_Feature"
   ],
   "window_display": false
  }
 },
 "nbformat": 4,
 "nbformat_minor": 5
}
