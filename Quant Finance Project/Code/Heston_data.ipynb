{
 "cells": [
  {
   "cell_type": "markdown",
   "id": "113574cd",
   "metadata": {},
   "source": [
    "# This file is used for simulating artificial data under Heston model. Do not run the file, or it will change the result as presented in the report."
   ]
  },
  {
   "cell_type": "code",
   "execution_count": 1,
   "id": "b5f46820",
   "metadata": {},
   "outputs": [],
   "source": [
    "import numpy as np\n",
    "from functools import partial\n",
    "from scipy.integrate import quad\n",
    "import pandas as pd\n",
    "rng = np.random.default_rng()"
   ]
  },
  {
   "cell_type": "markdown",
   "id": "ab29aaa6",
   "metadata": {},
   "source": [
    "### The following option pricing code for the Heston model is from this GitHub repository.https://github.com/cantaro86/Financial-Models-Numerical-Methods"
   ]
  },
  {
   "cell_type": "code",
   "execution_count": 2,
   "id": "dcb04583",
   "metadata": {},
   "outputs": [],
   "source": [
    "def Heston_pdf(i, t, v0, mu, theta, sigma, kappa, rho):\n",
    "    \"\"\"\n",
    "    Heston density by Fourier inversion.\n",
    "    \"\"\"\n",
    "    cf_H_b_good = partial(cf_Heston_good, t=t, v0=v0, mu=mu, theta=theta, sigma=sigma, kappa=kappa, rho=rho )\n",
    "    return Gil_Pelaez_pdf(i, cf_H_b_good, np.inf)\n",
    "\n",
    "def Q1(k, cf, right_lim):\n",
    "    \"\"\"\n",
    "    P(X<k) - Probability to be in the money under the stock numeraire.\n",
    "    cf: characteristic function\n",
    "    right_lim: right limit of integration\n",
    "    \"\"\"\n",
    "    integrand = lambda u: np.real( (np.exp(-u*k*1j) / (u*1j)) * \n",
    "                                  cf(u-1j) / cf(-1.0000000000001j) )  \n",
    "    return 1/2 + 1/np.pi * quad(integrand, 1e-15, right_lim, limit=2000 )[0]\n",
    "\n",
    "def Q2(k, cf, right_lim):\n",
    "    \"\"\"\n",
    "    P(X<k) - Probability to be in the money under the money market numeraire\n",
    "    cf: characteristic function\n",
    "    right_lim: right limit of integration\n",
    "    \"\"\"\n",
    "    integrand = lambda u: np.real( np.exp(-u*k*1j) /(u*1j) * cf(u) )\n",
    "    return 1/2 + 1/np.pi * quad(integrand, 1e-15, right_lim, limit=2000 )[0]\n",
    "\n",
    "def cf_Heston_good(u, t, v0, mu, kappa, theta, sigma, rho):\n",
    "    \"\"\"\n",
    "    Heston characteristic function as proposed by Schoutens (2004)\n",
    "    \"\"\"\n",
    "    xi = kappa - sigma*rho*u*1j\n",
    "    d = np.sqrt( xi**2 + sigma**2 * (u**2 + 1j*u) )\n",
    "    g1 = (xi+d)/(xi-d)\n",
    "    g2 = 1/g1\n",
    "    cf = np.exp( 1j*u*mu*t + (kappa*theta)/(sigma**2) * ( (xi-d)*t - 2*np.log( (1-g2*np.exp(-d*t))/(1-g2) ))\\\n",
    "              + (v0/sigma**2)*(xi-d) * (1-np.exp(-d*t))/(1-g2*np.exp(-d*t)) )\n",
    "    return cf"
   ]
  },
  {
   "cell_type": "code",
   "execution_count": 3,
   "id": "2fb7ce37",
   "metadata": {},
   "outputs": [
    {
     "name": "stdout",
     "output_type": "stream",
     "text": [
      "Heston Fourier inversion call price:  1361.583790572182\n",
      "-----------------------------------\n"
     ]
    }
   ],
   "source": [
    "r = 0                                              # drift\n",
    "rho = -0.8                                         # correlation coefficient\n",
    "kappa = 1                                          # mean reversion coefficient\n",
    "theta = 0.2                                        # long-term mean of the variance\n",
    "sigma = 0.5                                        # (Vol of Vol) - Volatility of instantaneous variance\n",
    "T = 0.0951864535768645                             # Terminal time\n",
    "K = 7250                                           # Stike  \n",
    "v0 = 0.6                                           # spot variance\n",
    "S0 = 8276.43                                       # spot stock price \n",
    "k = np.log(K/S0)                                   # log moneyness\n",
    "\n",
    "\n",
    "cf_H_b_good = partial(cf_Heston_good, t=T, v0=v0, mu=r, theta=theta, sigma=sigma, kappa=kappa,rho = rho ) \n",
    "\n",
    "# %%time\n",
    "limit_max = 2000      # right limit in the integration                \n",
    "call = S0 * Q1(k, cf_H_b_good, limit_max) - K * np.exp(-r*T) * Q2(k, cf_H_b_good, limit_max)\n",
    "print(\"Heston Fourier inversion call price: \", call)\n",
    "print(\"-----------------------------------\")"
   ]
  },
  {
   "cell_type": "code",
   "execution_count": 4,
   "id": "a0263f49",
   "metadata": {},
   "outputs": [],
   "source": [
    "A = {\n",
    "    't': 30/365,   # Terminal time\n",
    "    'v0': 0.6,      # spot variance\n",
    "    'mu': 0,       # drift\n",
    "    'theta': 0.2,  # long-term mean of the variance\n",
    "    'sigma': 0.5,# (Vol of Vol) - Volatility of instantaneous variance\n",
    "    'kappa': 1,# mean reversion coefficient\n",
    "    'rho': -0.8     # correlation coefficient\n",
    "}"
   ]
  },
  {
   "cell_type": "code",
   "execution_count": 5,
   "id": "3ba9fed3",
   "metadata": {},
   "outputs": [],
   "source": [
    "B = {\n",
    "    't': 30/365,   # Terminal time\n",
    "    'v0': 0.6,      # spot variance\n",
    "    'mu': 0,       # drift\n",
    "    'theta': 0.2,  # long-term mean of the variance\n",
    "    'sigma': 1,# (Vol of Vol) - Volatility of instantaneous variance\n",
    "    'kappa': 1,# mean reversion coefficient\n",
    "    'rho': -0.4     # correlation coefficient\n",
    "}"
   ]
  },
  {
   "cell_type": "code",
   "execution_count": 6,
   "id": "af5809f2",
   "metadata": {},
   "outputs": [],
   "source": [
    "C = {\n",
    "    't': 30/365,   # Terminal time\n",
    "    'v0': 0.6,      # spot variance\n",
    "    'mu': 0,       # drift\n",
    "    'theta': 0.04,  # long-term mean of the variance\n",
    "    'sigma': 1,# (Vol of Vol) - Volatility of instantaneous variance\n",
    "    'kappa': 5,# mean reversion coefficient\n",
    "    'rho': -0.4     # correlation coefficient\n",
    "}"
   ]
  },
  {
   "cell_type": "code",
   "execution_count": 7,
   "id": "9a5213fd",
   "metadata": {},
   "outputs": [],
   "source": [
    "D = {\n",
    "    't': 30/365,   # Terminal time\n",
    "    'v0': 0.04,      # spot variance\n",
    "    'mu': 0,       # drift\n",
    "    'theta': 0.04,  # long-term mean of the variance\n",
    "    'sigma': 0.3,# (Vol of Vol) - Volatility of instantaneous variance\n",
    "    'kappa': 1.5,# mean reversion coefficient\n",
    "    'rho': -0.7     # correlation coefficient\n",
    "}"
   ]
  },
  {
   "cell_type": "code",
   "execution_count": 8,
   "id": "0f62d956",
   "metadata": {},
   "outputs": [],
   "source": [
    "def get_data(strike_data,params,s0 = 4100):\n",
    "    call = []\n",
    "    put = []\n",
    "    limit_max = 3000\n",
    "    for K in strike_data:\n",
    "        k = np.log(K/s0)\n",
    "        cf_H_b_good = partial(cf_Heston_good, **params)\n",
    "        c = s0 * Q1(k, cf_H_b_good, limit_max) - K * np.exp(-params[\"mu\"]*params[\"t\"]) * Q2(k, cf_H_b_good, limit_max)\n",
    "        p = round(c-s0+K,2)\n",
    "        call.append(round(c,2))\n",
    "        put.append(p)\n",
    "    dic_call = {\"contractSymbol\":[\"call\"]*len(strike_data),\"strike\":strike_data,\"lastPrice\":call}\n",
    "    dic_put = {\"contractSymbol\":[\"put\"]*len(strike_data),\"strike\":strike_data,\"lastPrice\":put}\n",
    "    call = pd.DataFrame(dic_call)\n",
    "    put = pd.DataFrame(dic_put)\n",
    "    return call,put"
   ]
  },
  {
   "cell_type": "code",
   "execution_count": 9,
   "id": "d9308298",
   "metadata": {},
   "outputs": [],
   "source": [
    "def simulate_bid_ask(data,tick=1):\n",
    "    bid = rng.geometric(0.8,size = len(data)) \n",
    "    ask = rng.geometric(0.8,size = len(data)) \n",
    "    a = []\n",
    "    b = []\n",
    "    for i,p in enumerate(data[\"lastPrice\"].values):\n",
    "        if p>=5:\n",
    "            a.append(p+tick*ask[i])\n",
    "            b.append(p-tick*bid[i])\n",
    "        else:\n",
    "            a.append(p+ask[i]*(0.05*p))\n",
    "            b.append(p-bid[i]*(0.05*p))\n",
    "    data[\"bid\"] = b\n",
    "    data[\"ask\"] = a\n",
    "    data[\"volume\"] = np.ones(len(data))\n",
    "    return data"
   ]
  },
  {
   "cell_type": "code",
   "execution_count": 10,
   "id": "29b87c61",
   "metadata": {},
   "outputs": [
    {
     "data": {
      "text/plain": [
       "(111,)"
      ]
     },
     "execution_count": 10,
     "metadata": {},
     "output_type": "execute_result"
    }
   ],
   "source": [
    "strike1 = np.arange(2000,3000,100) # deep OTM put\n",
    "strike2 =  np.arange(3000,4000,50) # OTM put\n",
    "strike3 = np.arange(4000,4200,5) # ITM\n",
    "strike4 = np.arange(4200,5000,50) # OTM call\n",
    "strike5 = np.arange(5000,7500,100)# deep OTM call\n",
    "strike = np.concatenate((strike1,strike2,strike3,strike4,strike5),axis = None)\n",
    "strike.shape"
   ]
  },
  {
   "cell_type": "raw",
   "id": "bdc29573",
   "metadata": {},
   "source": [
    "c,p = get_data(strike,A)\n",
    "call_A = simulate_bid_ask(c)\n",
    "put_A = simulate_bid_ask(p)\n",
    "call_A.to_csv(\"call_A.csv\",index = False)\n",
    "put_A.to_csv(\"put_A.csv\",index = False)\n",
    "\n",
    "c,p = get_data(strike,B)\n",
    "call_B = simulate_bid_ask(c)\n",
    "put_B = simulate_bid_ask(p)\n",
    "call_B.to_csv(\"call_B.csv\",index = False)\n",
    "put_B.to_csv(\"put_B.csv\",index = False)\n",
    "\n",
    "c,p = get_data(strike,C)\n",
    "call_C = simulate_bid_ask(c)\n",
    "put_C = simulate_bid_ask(p)\n",
    "call_C.to_csv(\"call_C.csv\",index = False)\n",
    "put_C.to_csv(\"put_C.csv\",index = False)\n",
    "\n",
    "c,p = get_data(strike,D)\n",
    "call_D = simulate_bid_ask(c)\n",
    "put_D = simulate_bid_ask(p)\n",
    "call_D.to_csv(\"call_D.csv\",index = False)\n",
    "put_D.to_csv(\"put_D.csv\",index = False)"
   ]
  },
  {
   "cell_type": "markdown",
   "id": "9600616c",
   "metadata": {},
   "source": [
    "# Wider range strike"
   ]
  },
  {
   "cell_type": "code",
   "execution_count": 12,
   "id": "7506ed07",
   "metadata": {},
   "outputs": [
    {
     "data": {
      "text/plain": [
       "(326,)"
      ]
     },
     "execution_count": 12,
     "metadata": {},
     "output_type": "execute_result"
    }
   ],
   "source": [
    "from strike_data import strike\n",
    "strike.shape"
   ]
  },
  {
   "cell_type": "raw",
   "id": "96f21ced",
   "metadata": {},
   "source": [
    "c,p = get_data(strike,A)\n",
    "call_A = simulate_bid_ask(c)\n",
    "put_A = simulate_bid_ask(p)\n",
    "call_A.to_csv(\"call_A_wider.csv\",index = False)\n",
    "put_A.to_csv(\"put_A_wider.csv\",index = False)\n",
    "\n",
    "c,p = get_data(strike,B)\n",
    "call_B = simulate_bid_ask(c)\n",
    "put_B = simulate_bid_ask(p)\n",
    "call_B.to_csv(\"call_B_wider.csv\",index = False)\n",
    "put_B.to_csv(\"put_B_wider.csv\",index = False)\n",
    "\n",
    "c,p = get_data(strike,C)\n",
    "call_C = simulate_bid_ask(c)\n",
    "put_C = simulate_bid_ask(p)\n",
    "call_C.to_csv(\"call_C_wider.csv\",index = False)\n",
    "put_C.to_csv(\"put_C_wider.csv\",index = False)\n",
    "\n",
    "c,p = get_data(strike,D)\n",
    "call_D = simulate_bid_ask(c)\n",
    "put_D = simulate_bid_ask(p)\n",
    "call_D.to_csv(\"call_D_wider.csv\",index = False)\n",
    "put_D.to_csv(\"put_D_wider.csv\",index = False)"
   ]
  },
  {
   "cell_type": "code",
   "execution_count": null,
   "id": "ce3f01fb",
   "metadata": {},
   "outputs": [],
   "source": []
  }
 ],
 "metadata": {
  "kernelspec": {
   "display_name": "Python 3 (ipykernel)",
   "language": "python",
   "name": "python3"
  },
  "language_info": {
   "codemirror_mode": {
    "name": "ipython",
    "version": 3
   },
   "file_extension": ".py",
   "mimetype": "text/x-python",
   "name": "python",
   "nbconvert_exporter": "python",
   "pygments_lexer": "ipython3",
   "version": "3.9.12"
  }
 },
 "nbformat": 4,
 "nbformat_minor": 5
}
