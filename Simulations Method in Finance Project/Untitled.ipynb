{
 "cells": [
  {
   "cell_type": "code",
   "execution_count": null,
   "id": "0ff4412f",
   "metadata": {},
   "outputs": [],
   "source": [
    "# @jit\n",
    "# def _stock_price(self_T, self_r, self_sigma, self_spot, M, sample):\n",
    "#     dt = self_T/M\n",
    "#     df = np.exp(-self_r * self_T)\n",
    "#     S = sample * self_sigma * np.sqrt(dt) + (self_r-0.5 * self_sigma**2) * dt\n",
    "#     S[:,0] = np.log(self_spot)\n",
    "#     S = np.cumsum(S, axis = 1)\n",
    "#     S = np.exp(S)\n",
    "#     return S\n",
    "\n",
    "# @jit\n",
    "# def _processed_sample(self_df, self_b, self_type, self_payoff, stock_sample):\n",
    "#     if self_type == \"down-and-out\":\n",
    "#         tmp = []\n",
    "#         for path in stock_sample:\n",
    "#             tmp.append(np.min(path) > self_b)\n",
    "#         tmp = np.array(tmp)\n",
    "#         return np.mean(self_payoff(stock_sample[:,-1]) * tmp) * self_df\n",
    "\n",
    "#     if self_type == \"down-and-in\":\n",
    "#         tmp = np.array([])\n",
    "#         for path in stock_sample:\n",
    "#             tmp = np.append(tmp, np.min(path) <= self_b)\n",
    "#         tmp = np.array(tmp)\n",
    "#         return np.mean(self_payoff(stock_sample[:,-1]) * tmp) * self_df\n",
    "\n",
    "#     if self_type == \"up-and-out\":\n",
    "#         tmp = []\n",
    "#         for path in stock_sample:\n",
    "#             tmp.append(np.max(path) < self_b)\n",
    "#         tmp = np.array(tmp)\n",
    "#         return np.mean(self_payoff(stock_sample[:,-1]) * tmp) * self_df   \n",
    "\n",
    "#     if self_type == \"up-and-in\":\n",
    "#         tmp = []\n",
    "#         for path in stock_sample:\n",
    "#             tmp.append(np.max(path) >= self_b)\n",
    "#         tmp = np.array(tmp)\n",
    "#         return np.mean(self_payoff(stock_sample[:,-1]) * tmp) * self_df"
   ]
  }
 ],
 "metadata": {
  "kernelspec": {
   "display_name": "Python 3 (ipykernel)",
   "language": "python",
   "name": "python3"
  },
  "language_info": {
   "codemirror_mode": {
    "name": "ipython",
    "version": 3
   },
   "file_extension": ".py",
   "mimetype": "text/x-python",
   "name": "python",
   "nbconvert_exporter": "python",
   "pygments_lexer": "ipython3",
   "version": "3.9.12"
  }
 },
 "nbformat": 4,
 "nbformat_minor": 5
}
